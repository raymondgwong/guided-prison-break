{
 "cells": [
  {
   "cell_type": "markdown",
   "metadata": {},
   "source": [
    "# Analyzing Data"
   ]
  },
  {
   "cell_type": "raw",
   "metadata": {},
   "source": [
    "## Prison Helicopter Escapes"
   ]
  },
  {
   "cell_type": "markdown",
   "metadata": {},
   "source": [
    "We begin by importing some helper functions"
   ]
  },
  {
   "cell_type": "code",
   "execution_count": 5,
   "metadata": {},
   "outputs": [],
   "source": [
    "from helper import *"
   ]
  },
  {
   "cell_type": "markdown",
   "metadata": {},
   "source": [
    "## Get the Data"
   ]
  },
  {
   "cell_type": "markdown",
   "metadata": {},
   "source": [
    "Now, let's get the data from the [List of helicopter prison escapes](https://en.wikipedia.org/wiki/List_of_helicopter_prison_escapes) Wikipedia article. "
   ]
  },
  {
   "cell_type": "code",
   "execution_count": null,
   "metadata": {},
   "outputs": [],
   "source": [
    "url = 'https://en.wikipedia.org/wiki/List_of_helicopter_prison_escapes'\n",
    "data = data_from_url(url)\n"
   ]
  },
  {
   "cell_type": "markdown",
   "metadata": {},
   "source": [
    "Let's print the first three rows"
   ]
  },
  {
   "cell_type": "code",
   "execution_count": 108,
   "metadata": {},
   "outputs": [
    {
     "name": "stdout",
     "output_type": "stream",
     "text": [
      "[1971, 'Santa Martha Acatitla', 'Mexico', 'Yes', 'Joel David Kaplan Carlos Antonio Contreras Castro']\n",
      "[1973, 'Mountjoy Jail', 'Ireland', 'Yes', \"JB O'Hagan Seamus TwomeyKevin Mallon\"]\n",
      "[1978, 'United States Penitentiary, Marion', 'United States', 'No', 'Garrett Brock TrapnellMartin Joseph McNallyJames Kenneth Johnson']\n"
     ]
    }
   ],
   "source": [
    "index = 0\n",
    "row = data[index][:-1]\n",
    "row[0] = fetch_year(row[0])\n",
    "\n",
    "\n",
    "for element in data:\n",
    "    row = data[index][:-1]\n",
    "    row[0] = fetch_year(row[0])\n",
    "    if index <= 2:\n",
    "        print(row)\n",
    "        index = index + 1"
   ]
  },
  {
   "cell_type": "code",
   "execution_count": 93,
   "metadata": {},
   "outputs": [
    {
     "name": "stdout",
     "output_type": "stream",
     "text": [
      "[2007, 2008, 2009, 2010, 2011, 2012, 2013, 2014, 2015, 2016, 2017, 2018, 2019, 2020]\n",
      "2007\n",
      "[[2007, 0], [2008, 0], [2009, 0], [2010, 0], [2011, 0], [2012, 0], [2013, 0], [2014, 0], [2015, 0], [2016, 0], [2017, 0], [2018, 0], [2019, 0], [2020, 0]]\n"
     ]
    }
   ],
   "source": [
    "min_year = min(data, key=lambda x: x[0])[0]\n",
    "max_year = max(data, key=lambda x: x[0])[0]\n",
    "\n",
    "\n",
    "\n",
    "years = []\n",
    "for year in range(fetch_year(min_year), fetch_year(max_year) + 1):\n",
    "    years.append(year)\n",
    "    \n",
    "attempts_per_year = []\n",
    "\n",
    "for i in range(len(years)):\n",
    "    if i <= len(years) - 1:\n",
    "        attempts_per_year.append([years[i],0])\n",
    "        i = i + 1\n",
    "    \n",
    "   \n",
    "print(years)\n",
    "print(years[0])\n",
    "print(attempts_per_year)"
   ]
  },
  {
   "cell_type": "code",
   "execution_count": 94,
   "metadata": {
    "scrolled": true
   },
   "outputs": [],
   "source": [
    "for index in range(len(data)):\n",
    "    row = data[index][:-1]\n",
    "    row[0] = fetch_year(row[0])\n",
    "    for year_attempt in attempts_per_year: \n",
    "        year = year_attempt[0]\n",
    "        if row[0] == year:\n",
    "            year_attempt[1] += 1\n",
    "        else: index = index + 1"
   ]
  },
  {
   "cell_type": "code",
   "execution_count": 96,
   "metadata": {},
   "outputs": [
    {
     "name": "stdout",
     "output_type": "stream",
     "text": [
      "[[2007, 3], [2008, 0], [2009, 3], [2010, 1], [2011, 0], [2012, 1], [2013, 2], [2014, 1], [2015, 0], [2016, 1], [2017, 0], [2018, 1], [2019, 0], [2020, 1]]\n"
     ]
    }
   ],
   "source": [
    "print(attempts_per_year)  "
   ]
  },
  {
   "cell_type": "code",
   "execution_count": 97,
   "metadata": {},
   "outputs": [
    {
     "data": {
      "image/png": "[encoded data removed]",
      "text/plain": [
       "<Figure size 900x1500 with 1 Axes>"
      ]
     },
     "metadata": {},
     "output_type": "display_data"
    }
   ],
   "source": [
    "%matplotlib inline\n",
    "barplot(attempts_per_year)"
   ]
  },
  {
   "cell_type": "markdown",
   "metadata": {},
   "source": [
    "# 2007 and 2009 tied for most attempts"
   ]
  },
  {
   "cell_type": "code",
   "execution_count": 45,
   "metadata": {},
   "outputs": [
    {
     "data": {
      "text/html": [
       "<table border=\"1\" class=\"dataframe\">\n",
       "  <thead>\n",
       "    <tr style=\"text-align: right;\">\n",
       "      <th>Country</th>\n",
       "      <th>Number of Occurrences</th>\n",
       "    </tr>\n",
       "  </thead>\n",
       "  <tbody>\n",
       "    <tr>\n",
       "      <td>France</td>\n",
       "      <td>15</td>\n",
       "    </tr>\n",
       "    <tr>\n",
       "      <td>United States</td>\n",
       "      <td>8</td>\n",
       "    </tr>\n",
       "    <tr>\n",
       "      <td>Greece</td>\n",
       "      <td>4</td>\n",
       "    </tr>\n",
       "    <tr>\n",
       "      <td>Canada</td>\n",
       "      <td>4</td>\n",
       "    </tr>\n",
       "    <tr>\n",
       "      <td>Belgium</td>\n",
       "      <td>4</td>\n",
       "    </tr>\n",
       "    <tr>\n",
       "      <td>Brazil</td>\n",
       "      <td>2</td>\n",
       "    </tr>\n",
       "    <tr>\n",
       "      <td>Australia</td>\n",
       "      <td>2</td>\n",
       "    </tr>\n",
       "    <tr>\n",
       "      <td>United Kingdom</td>\n",
       "      <td>2</td>\n",
       "    </tr>\n",
       "    <tr>\n",
       "      <td>Chile</td>\n",
       "      <td>1</td>\n",
       "    </tr>\n",
       "    <tr>\n",
       "      <td>Russia</td>\n",
       "      <td>1</td>\n",
       "    </tr>\n",
       "    <tr>\n",
       "      <td>Netherlands</td>\n",
       "      <td>1</td>\n",
       "    </tr>\n",
       "    <tr>\n",
       "      <td>Ireland</td>\n",
       "      <td>1</td>\n",
       "    </tr>\n",
       "    <tr>\n",
       "      <td>Puerto Rico</td>\n",
       "      <td>1</td>\n",
       "    </tr>\n",
       "    <tr>\n",
       "      <td>Italy</td>\n",
       "      <td>1</td>\n",
       "    </tr>\n",
       "    <tr>\n",
       "      <td>Mexico</td>\n",
       "      <td>1</td>\n",
       "    </tr>\n",
       "  </tbody>\n",
       "</table>"
      ],
      "text/plain": [
       "<IPython.core.display.HTML object>"
      ]
     },
     "metadata": {},
     "output_type": "display_data"
    }
   ],
   "source": [
    "countries_frequency = df[\"Country\"].value_counts()\n",
    "print_pretty_table(countries_frequency)"
   ]
  },
  {
   "cell_type": "code",
   "execution_count": 114,
   "metadata": {},
   "outputs": [
    {
     "name": "stdout",
     "output_type": "stream",
     "text": [
      "[['Mexico', 0], ['Ireland', 0], ['United States', 0], ['France', 0], ['Canada', 0], ['Australia', 0], ['Brazil', 0], ['Italy', 0], ['United Kingdom', 0], ['Puerto Rico', 0], ['Chile', 0], ['Netherlands', 0], ['Greece', 0], ['Belgium', 0], ['Russia', 0]]\n",
      "[['Mexico', 0], ['Ireland', 0], ['United States', 0], ['France', 0], ['Canada', 0], ['Australia', 0], ['Brazil', 0], ['Italy', 0], ['United Kingdom', 0], ['Puerto Rico', 0], ['Chile', 0], ['Netherlands', 0], ['Greece', 0], ['Belgium', 0], ['Russia', 0]]\n"
     ]
    }
   ],
   "source": [
    "country_names = unique_countries(countries)\n",
    "\n",
    "country_success = []\n",
    "country_attempts = [] \n",
    "\n",
    "for i in range(len(country_names)):\n",
    "    if i <= len(country_names) - 1:\n",
    "        country_success.append([country_names[i],0])\n",
    "        i = i + 1\n",
    "\n",
    "for i in range(len(country_names)):\n",
    "    if i <= len(country_names) - 1:\n",
    "        country_attempts.append([country_names[i],0])\n",
    "        i = i + 1\n",
    "\n",
    "print(country_success)\n",
    "print(country_attempts)\n"
   ]
  },
  {
   "cell_type": "code",
   "execution_count": 115,
   "metadata": {},
   "outputs": [],
   "source": [
    "for index in range(len(data)):\n",
    "    row = data[index]\n",
    "    for total_attempts in country_attempts:\n",
    "        country = total_attempts[0]\n",
    "        if row[2] == country:\n",
    "            total_attempts[1] +=1\n",
    "    else: index = index + 1\n",
    "\n",
    "\n",
    "for index in range(len(data)):\n",
    "    row = data[index]\n",
    "    if row[3] == 'Yes':\n",
    "        for total_success in country_success: \n",
    "            country = total_success[0]\n",
    "            if row[2] == country:\n",
    "                total_success[1] += 1\n",
    "    else: index = index + 1\n",
    "        \n",
    "\n"
   ]
  },
  {
   "cell_type": "code",
   "execution_count": 130,
   "metadata": {},
   "outputs": [
    {
     "name": "stdout",
     "output_type": "stream",
     "text": [
      "[['Mexico', 1], ['Ireland', 1], ['United States', 6], ['France', 11], ['Canada', 3], ['Australia', 1], ['Brazil', 2], ['Italy', 1], ['United Kingdom', 1], ['Puerto Rico', 1], ['Chile', 1], ['Netherlands', 0], ['Greece', 2], ['Belgium', 2], ['Russia', 1]]\n",
      "[['Mexico', 1], ['Ireland', 1], ['United States', 8], ['France', 15], ['Canada', 4], ['Australia', 2], ['Brazil', 2], ['Italy', 1], ['United Kingdom', 2], ['Puerto Rico', 1], ['Chile', 1], ['Netherlands', 1], ['Greece', 4], ['Belgium', 4], ['Russia', 1]]\n"
     ]
    }
   ],
   "source": [
    "print(country_success)\n",
    "print(country_attempts)"
   ]
  },
  {
   "cell_type": "code",
   "execution_count": 132,
   "metadata": {},
   "outputs": [],
   "source": [
    "success_rate_by_country = []\n",
    "\n",
    "for attempts in country_attempts:\n",
    "    total_attempts = attempts[1]\n",
    "    for success in country_success:\n",
    "        total_success = success[1]\n",
    "        if attempts[0] == success[0]:\n",
    "            success_rate_by_country.append([attempts[0], (total_success / total_attempts * 100)])"
   ]
  },
  {
   "cell_type": "code",
   "execution_count": 134,
   "metadata": {},
   "outputs": [
    {
     "data": {
      "image/png": "[encoded data removed]",
      "text/plain": [
       "<Figure size 900x1500 with 1 Axes>"
      ]
     },
     "metadata": {},
     "output_type": "display_data"
    }
   ],
   "source": [
    "%matplotlib inline\n",
    "barplot(success_rate_by_country)"
   ]
  },
  {
   "cell_type": "markdown",
   "metadata": {},
   "source": [
    "## Results are inconclusive, as attempts go up, typically success rate goes up"
   ]
  },
  {
   "cell_type": "code",
   "execution_count": null,
   "metadata": {},
   "outputs": [],
   "source": []
  }
 ],
 "metadata": {
  "kernelspec": {
   "display_name": "Python 3",
   "language": "python",
   "name": "python3"
  },
  "language_info": {
   "codemirror_mode": {
    "name": "ipython",
    "version": 3
   },
   "file_extension": ".py",
   "mimetype": "text/x-python",
   "name": "python",
   "nbconvert_exporter": "python",
   "pygments_lexer": "ipython3",
   "version": "3.8.2"
  }
 },
 "nbformat": 4,
 "nbformat_minor": 2
}
